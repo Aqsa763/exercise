{
 "cells": [
  {
   "cell_type": "code",
   "execution_count": 8,
   "metadata": {},
   "outputs": [
    {
     "name": "stdout",
     "output_type": "stream",
     "text": [
      "Enter the temperature in degrees Fahrenheit: 50\n",
      "The temperature in degrees Celsius is:  10.0\n"
     ]
    }
   ],
   "source": [
    "#3.1\n",
    "fahrenheit=float(input(\"Enter the temperature in degrees Fahrenheit: \"))\n",
    "celsius=(5/9)*(fahrenheit - 32)\n",
    "print(\"The temperature in degrees Celsius is: \" , celsius)"
   ]
  },
  {
   "cell_type": "code",
   "execution_count": null,
   "metadata": {},
   "outputs": [],
   "source": [
    "#3.3\n",
    "#(a)\n",
    "year=input(\"Enter the year: \")\n",
    "if year%4==0:\n",
    "    print(\"Could be a leap year.\")\n",
    "else:\n",
    "    print(\"Definitely not a leap year.\")"
   ]
  },
  {
   "cell_type": "code",
   "execution_count": 1,
   "metadata": {},
   "outputs": [
    {
     "name": "stdout",
     "output_type": "stream",
     "text": [
      "Better luck next time.\n"
     ]
    }
   ],
   "source": [
    "#(b)\n",
    "ticket=[1,2,3,4,5]\n",
    "lottery=[2,3,5,6,7]\n",
    "if ticket==lottery:\n",
    "    print(\"You won!\")\n",
    "else:\n",
    "    print(\"Better luck next time.\")"
   ]
  },
  {
   "cell_type": "code",
   "execution_count": 5,
   "metadata": {},
   "outputs": [
    {
     "name": "stdout",
     "output_type": "stream",
     "text": [
      "Login: aqsa\n",
      "User unknown.\n",
      "Done.\n"
     ]
    }
   ],
   "source": [
    "#3.4\n",
    "valid_id=[\"joe\",\"sue\",\"hani\",\"sophie\"]\n",
    "current_id= input(\"Login: \")\n",
    "if current_id in valid_id:\n",
    "    print(\"You are in!\")\n",
    "else:\n",
    "    print(\"User unknown.\")\n",
    "    print(\"Done.\")"
   ]
  },
  {
   "cell_type": "code",
   "execution_count": 1,
   "metadata": {},
   "outputs": [
    {
     "name": "stdout",
     "output_type": "stream",
     "text": [
      "Enter word list: stop\n"
     ]
    }
   ],
   "source": [
    "#3.5\n",
    "list=[\"stop\",\"desktop\",\"top\",\"post\"]\n",
    "list=str(input(\"Enter word list: \"))\n",
    "for element in list:\n",
    "    if len(element)==4:\n",
    "        print(element)"
   ]
  },
  {
   "cell_type": "code",
   "execution_count": 7,
   "metadata": {},
   "outputs": [
    {
     "name": "stdout",
     "output_type": "stream",
     "text": [
      "0\n",
      "1\n",
      "2\n",
      "3\n",
      "4\n",
      "5\n",
      "6\n",
      "7\n",
      "8\n",
      "9\n",
      "0\n",
      "1\n"
     ]
    }
   ],
   "source": [
    "#3.6\n",
    "list=[1,2,3,4,5,6,7,8,9]\n",
    "for i in range(10):\n",
    "    print(i)\n",
    "for i in range(2):\n",
    "    print(i)"
   ]
  },
  {
   "cell_type": "code",
   "execution_count": 1,
   "metadata": {},
   "outputs": [
    {
     "name": "stdout",
     "output_type": "stream",
     "text": [
      "hello\n",
      "hello\n"
     ]
    }
   ],
   "source": [
    "#3.17\n",
    "b=str(input())\n",
    "print(b)"
   ]
  },
  {
   "cell_type": "code",
   "execution_count": 13,
   "metadata": {},
   "outputs": [
    {
     "name": "stdout",
     "output_type": "stream",
     "text": [
      "OK\n",
      "OK\n"
     ]
    }
   ],
   "source": [
    "#3.18\n",
    "#(a)\n",
    "a,b,c=3,4,5\n",
    "if a<b:\n",
    "    print(\"OK\")\n",
    "#(b)\n",
    "if c<b:\n",
    "    print(\"OK\")\n",
    "#(c)\n",
    "if a+b==c:\n",
    "    print(\"OK\")\n",
    "#(d)\n",
    "if a**2+b**2==c**2:\n",
    "    print(\"OK\")"
   ]
  },
  {
   "cell_type": "code",
   "execution_count": 11,
   "metadata": {},
   "outputs": [
    {
     "name": "stdout",
     "output_type": "stream",
     "text": [
      "OK\n",
      "NOT OK\n",
      "NOT OK\n",
      "OK\n"
     ]
    }
   ],
   "source": [
    "#3.19\n",
    "a,b,c=3,4,5\n",
    "#(a)\n",
    "if a<b:\n",
    "    print(\"OK\")\n",
    "else:\n",
    "    print(\"NOT OK\")\n",
    "#(b)\n",
    "if c<b:\n",
    "    print(\"OK\")\n",
    "else:\n",
    "    print(\"NOT OK\")\n",
    "#(c)\n",
    "if a+b==c:\n",
    "    print(\"OK\")\n",
    "else:\n",
    "    print(\"NOT OK\")\n",
    "#(d)\n",
    "if a**2+b**2==c**2:\n",
    "    print(\"OK\")\n",
    "else:\n",
    "    print(\"NOT OK\")"
   ]
  },
  {
   "cell_type": "code",
   "execution_count": 15,
   "metadata": {},
   "outputs": [
    {
     "name": "stdout",
     "output_type": "stream",
     "text": [
      "Jan\n",
      "Feb\n",
      "Mar\n"
     ]
    }
   ],
   "source": [
    "#3.20\n",
    "lst=[\"January\",\"February\",\"March\"]\n",
    "for word in lst:\n",
    "    print(word[:3])"
   ]
  },
  {
   "cell_type": "code",
   "execution_count": 16,
   "metadata": {},
   "outputs": [
    {
     "name": "stdout",
     "output_type": "stream",
     "text": [
      "2\n",
      "4\n",
      "6\n",
      "8\n"
     ]
    }
   ],
   "source": [
    "#3.21\n",
    "lst=[2,3,4,5,6,7,8,9]\n",
    "for i in lst:\n",
    "    if i%2==0:\n",
    "        print(i)\n",
    "    "
   ]
  },
  {
   "cell_type": "code",
   "execution_count": 18,
   "metadata": {},
   "outputs": [
    {
     "name": "stdout",
     "output_type": "stream",
     "text": [
      "4\n",
      "8\n"
     ]
    }
   ],
   "source": [
    "#3.22\n",
    "lst=[1,2,3,4,5,6,7,8,9]\n",
    "for i in lst:\n",
    "    if(i**2)%8==0:\n",
    "        print(i)"
   ]
  },
  {
   "cell_type": "code",
   "execution_count": 46,
   "metadata": {},
   "outputs": [
    {
     "name": "stdout",
     "output_type": "stream",
     "text": [
      "0 1 0\n",
      "3 4 5 6 1 0\n",
      "3\n",
      "5 9 13 17 21 "
     ]
    }
   ],
   "source": [
    "#3.23\n",
    "i=[0,1,2,3,4,5,6,7,8,9,10,11,12,13,14,15,16,17,18,19,20,21]\n",
    "#(a)\n",
    "for i in range(2):\n",
    "    print(i,end=\" \")\n",
    "#(b)\n",
    "for i in range(1):\n",
    "    print(i)\n",
    "#(c)\n",
    "for i in range(3,7):\n",
    "    print(i,end=\" \")\n",
    "#(d)\n",
    "for i in range(1,2):\n",
    "    print(i,end=\" \")\n",
    "#(e)\n",
    "for i in range(0,4,3):\n",
    "    print(i)\n",
    "#(e)\n",
    "for i in range(5,22,4):\n",
    "    print(i,end=\" \")"
   ]
  },
  {
   "cell_type": "code",
   "execution_count": 1,
   "metadata": {},
   "outputs": [
    {
     "name": "stdout",
     "output_type": "stream",
     "text": [
      "cia\n",
      "mi6\n",
      "isi\n"
     ]
    }
   ],
   "source": [
    "#3.24\n",
    "lst=[\"cia\",\"secret\",\"mi6\",\"isi\",\"secret\"]\n",
    "for word in lst:\n",
    "    if word!=\"secret\":\n",
    "        print(word)"
   ]
  },
  {
   "cell_type": "code",
   "execution_count": 7,
   "metadata": {},
   "outputs": [
    {
     "name": "stdout",
     "output_type": "stream",
     "text": [
      "Steve\n",
      "Sam\n",
      "Owen\n"
     ]
    }
   ],
   "source": [
    "#3.25\n",
    "list=[\"Ellie\",\"Steve\",\"Sam\",\"Owen\",\"Gavin\"]\n",
    "for word in list:\n",
    "    if word [0]>=\"A\"and word [0]>=\"M\":\n",
    "        print(word)"
   ]
  },
  {
   "cell_type": "code",
   "execution_count": 8,
   "metadata": {},
   "outputs": [
    {
     "name": "stdout",
     "output_type": "stream",
     "text": [
      "The first list element is 3\n",
      "The last list element is 9\n"
     ]
    }
   ],
   "source": [
    "#3.26\n",
    "list=[3,5,7,9]\n",
    "print(\"The first list element is\",list[0])\n",
    "print(\"The last list element is\",list[-1])"
   ]
  },
  {
   "cell_type": "code",
   "execution_count": 12,
   "metadata": {},
   "outputs": [
    {
     "name": "stdout",
     "output_type": "stream",
     "text": [
      "Enter n: 4\n",
      "0\n",
      "4\n",
      "8\n",
      "12\n"
     ]
    }
   ],
   "source": [
    "#3.27\n",
    "n = eval(input(\"Enter n: \" ))\n",
    "for i in range(4):\n",
    "    print(n*i)\n"
   ]
  },
  {
   "cell_type": "code",
   "execution_count": 14,
   "metadata": {},
   "outputs": [
    {
     "name": "stdout",
     "output_type": "stream",
     "text": [
      "Enter n: 5\n",
      "0\n",
      "1\n",
      "4\n",
      "9\n",
      "16\n"
     ]
    }
   ],
   "source": [
    "#3.28\n",
    "n=eval(input(\"Enter n: \" ))\n",
    "for i in range(n):\n",
    "    print(i*i)"
   ]
  },
  {
   "cell_type": "code",
   "execution_count": 16,
   "metadata": {},
   "outputs": [
    {
     "name": "stdout",
     "output_type": "stream",
     "text": [
      "Enter n: 2\n",
      "1\n",
      "2\n"
     ]
    }
   ],
   "source": [
    "#3.29\n",
    "n=eval(input(\"Enter n: \" ))\n",
    "for i in range(1,n+1):\n",
    "    if(n%i==0):\n",
    "        print(i)"
   ]
  },
  {
   "cell_type": "code",
   "execution_count": 3,
   "metadata": {},
   "outputs": [
    {
     "name": "stdout",
     "output_type": "stream",
     "text": [
      "Enter first number: 4.5\n",
      "Enter second number: 3\n",
      "Enter third number: 3\n",
      "Enter last number: 3.5\n",
      "Equal\n"
     ]
    }
   ],
   "source": [
    "#3.30\n",
    "n1=float(input(\"Enter first number: \"))\n",
    "n2=float(input(\"Enter second number: \"))\n",
    "n3=float(input(\"Enter third number: \"))\n",
    "n4=float(input(\"Enter last number: \"))\n",
    "if (n1+n2+n3)/3 == n4:\n",
    "    print(\"Equal\")"
   ]
  },
  {
   "cell_type": "code",
   "execution_count": 4,
   "metadata": {},
   "outputs": [
    {
     "name": "stdout",
     "output_type": "stream",
     "text": [
      "Enter x: 2.5\n",
      "Enter y: 4\n",
      "It is in!\n"
     ]
    }
   ],
   "source": [
    "#3.31\n",
    "x=float(input(\"Enter x: \"))\n",
    "y=float(input(\"Enter y: \"))\n",
    "if x**2+y**2 < 8**2:\n",
    "    print(\"It is in!\")"
   ]
  },
  {
   "cell_type": "code",
   "execution_count": null,
   "metadata": {},
   "outputs": [],
   "source": []
  }
 ],
 "metadata": {
  "kernelspec": {
   "display_name": "Python 3",
   "language": "python",
   "name": "python3"
  },
  "language_info": {
   "codemirror_mode": {
    "name": "ipython",
    "version": 3
   },
   "file_extension": ".py",
   "mimetype": "text/x-python",
   "name": "python",
   "nbconvert_exporter": "python",
   "pygments_lexer": "ipython3",
   "version": "3.7.3"
  }
 },
 "nbformat": 4,
 "nbformat_minor": 2
}
